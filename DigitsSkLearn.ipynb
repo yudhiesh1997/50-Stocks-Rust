{
  "nbformat": 4,
  "nbformat_minor": 0,
  "metadata": {
    "colab": {
      "name": "DigitsSkLearn.ipynb",
      "provenance": [],
      "authorship_tag": "ABX9TyOzS/AzsDtdTTYu0WPmgcpF",
      "include_colab_link": true
    },
    "kernelspec": {
      "name": "python3",
      "display_name": "Python 3"
    }
  },
  "cells": [
    {
      "cell_type": "markdown",
      "metadata": {
        "id": "view-in-github",
        "colab_type": "text"
      },
      "source": [
        "<a href=\"https://colab.research.google.com/github/yudhiesh1997/50-Stocks-Rust/blob/master/DigitsSkLearn.ipynb\" target=\"_parent\"><img src=\"https://colab.research.google.com/assets/colab-badge.svg\" alt=\"Open In Colab\"/></a>"
      ]
    },
    {
      "cell_type": "code",
      "metadata": {
        "id": "8l6YY4i9h5UQ",
        "colab_type": "code",
        "colab": {}
      },
      "source": [
        "import matplotlib.pyplot as plt\n",
        "import numpy as np\n",
        "from sklearn.linear_model import LogisticRegression\n",
        "from sklearn.model_selection import train_test_split\n",
        "from sklearn.metrics import confusion_matrix, classification_report, plot_confusion_matrix\n",
        "import seaborn as sns \n",
        "from sklearn.datasets import load_digits"
      ],
      "execution_count": 24,
      "outputs": []
    },
    {
      "cell_type": "code",
      "metadata": {
        "id": "JPsWAMd7i19z",
        "colab_type": "code",
        "colab": {}
      },
      "source": [
        "digits = load_digits()"
      ],
      "execution_count": 2,
      "outputs": []
    },
    {
      "cell_type": "code",
      "metadata": {
        "id": "AQiHpRx7i-Ba",
        "colab_type": "code",
        "colab": {
          "base_uri": "https://localhost:8080/",
          "height": 34
        },
        "outputId": "0567c3e5-6d13-495b-fc48-8bbc103deb76"
      },
      "source": [
        "digits.data.shape"
      ],
      "execution_count": 5,
      "outputs": [
        {
          "output_type": "execute_result",
          "data": {
            "text/plain": [
              "(1797, 64)"
            ]
          },
          "metadata": {
            "tags": []
          },
          "execution_count": 5
        }
      ]
    },
    {
      "cell_type": "code",
      "metadata": {
        "id": "Q51IJk5ji_ON",
        "colab_type": "code",
        "colab": {
          "base_uri": "https://localhost:8080/",
          "height": 34
        },
        "outputId": "0a2fd581-ab44-4988-d12a-689f7daba0e7"
      },
      "source": [
        "digits.target.shape"
      ],
      "execution_count": 6,
      "outputs": [
        {
          "output_type": "execute_result",
          "data": {
            "text/plain": [
              "(1797,)"
            ]
          },
          "metadata": {
            "tags": []
          },
          "execution_count": 6
        }
      ]
    },
    {
      "cell_type": "code",
      "metadata": {
        "id": "wRO5yfC2jG-m",
        "colab_type": "code",
        "colab": {
          "base_uri": "https://localhost:8080/",
          "height": 267
        },
        "outputId": "4725efea-4149-4e34-f053-007b3de5e6ff"
      },
      "source": [
        "_, axes = plt.subplots(2, 4)\n",
        "plt.plot(figsize=(10,10))\n",
        "images_and_labels = list(zip(digits.images, digits.target))\n",
        "for ax, (image, label) in zip(axes[0, :], images_and_labels[:4]):\n",
        "    ax.set_axis_off()\n",
        "    ax.imshow(image, cmap=plt.cm.gray_r, interpolation='nearest')\n",
        "    ax.set_title('Training: %i' % label)\n"
      ],
      "execution_count": 8,
      "outputs": [
        {
          "output_type": "display_data",
          "data": {
            "image/png": "[encoded data removed]",
            "text/plain": [
              "<Figure size 432x288 with 8 Axes>"
            ]
          },
          "metadata": {
            "tags": [],
            "needs_background": "light"
          }
        }
      ]
    },
    {
      "cell_type": "code",
      "metadata": {
        "id": "0arA4-QejRLr",
        "colab_type": "code",
        "colab": {}
      },
      "source": [
        "n_samples = len(digits.images)\n",
        "data = digits.images.reshape((n_samples, -1))"
      ],
      "execution_count": 9,
      "outputs": []
    },
    {
      "cell_type": "code",
      "metadata": {
        "id": "c8Bs7BPcjkAp",
        "colab_type": "code",
        "colab": {}
      },
      "source": [
        "X_train,X_test, y_train,y_test = train_test_split(data, digits.target, test_size=0.2, random_state=42)"
      ],
      "execution_count": 10,
      "outputs": []
    },
    {
      "cell_type": "code",
      "metadata": {
        "id": "APw06nAjj4nt",
        "colab_type": "code",
        "colab": {
          "base_uri": "https://localhost:8080/",
          "height": 247
        },
        "outputId": "d3b0569a-1972-4616-8062-a3b6bfa004c4"
      },
      "source": [
        "log = LogisticRegression()\n",
        "log.fit(X_train, y_train)"
      ],
      "execution_count": 11,
      "outputs": [
        {
          "output_type": "stream",
          "text": [
            "/usr/local/lib/python3.6/dist-packages/sklearn/linear_model/_logistic.py:940: ConvergenceWarning: lbfgs failed to converge (status=1):\n",
            "STOP: TOTAL NO. of ITERATIONS REACHED LIMIT.\n",
            "\n",
            "Increase the number of iterations (max_iter) or scale the data as shown in:\n",
            "    https://scikit-learn.org/stable/modules/preprocessing.html\n",
            "Please also refer to the documentation for alternative solver options:\n",
            "    https://scikit-learn.org/stable/modules/linear_model.html#logistic-regression\n",
            "  extra_warning_msg=_LOGISTIC_SOLVER_CONVERGENCE_MSG)\n"
          ],
          "name": "stderr"
        },
        {
          "output_type": "execute_result",
          "data": {
            "text/plain": [
              "LogisticRegression(C=1.0, class_weight=None, dual=False, fit_intercept=True,\n",
              "                   intercept_scaling=1, l1_ratio=None, max_iter=100,\n",
              "                   multi_class='auto', n_jobs=None, penalty='l2',\n",
              "                   random_state=None, solver='lbfgs', tol=0.0001, verbose=0,\n",
              "                   warm_start=False)"
            ]
          },
          "metadata": {
            "tags": []
          },
          "execution_count": 11
        }
      ]
    },
    {
      "cell_type": "code",
      "metadata": {
        "id": "JdPqF1yVj_cz",
        "colab_type": "code",
        "colab": {}
      },
      "source": [
        "y_pred = log.predict(X_test)"
      ],
      "execution_count": 12,
      "outputs": []
    },
    {
      "cell_type": "code",
      "metadata": {
        "id": "XEgrdlsfkFWw",
        "colab_type": "code",
        "colab": {
          "base_uri": "https://localhost:8080/",
          "height": 1000
        },
        "outputId": "4a96bdbb-e2f5-4974-f62d-59725007ebf1"
      },
      "source": [
        "print(f'Intercept: {log.intercept_}\\nSlope: {log.coef_}')\n",
        "print(f'Model classes: {log.classes_}')"
      ],
      "execution_count": 13,
      "outputs": [
        {
          "output_type": "stream",
          "text": [
            "Intercept: [ 0.00139071 -0.07339812  0.0012997   0.00903933  0.0471433  -0.01860448\n",
            " -0.00430369  0.00928998  0.05344547 -0.0253022 ]\n",
            "Slope: [[ 0.00000000e+00 -1.10550001e-02 -2.38635770e-02  9.12604008e-02\n",
            "   1.35753834e-02 -8.76879193e-02 -1.46058445e-01 -1.89794672e-02\n",
            "  -1.05145413e-04 -7.66374005e-02  3.63862872e-02  1.61440760e-01\n",
            "   2.81207329e-02  8.46353962e-02 -6.88731665e-02 -1.74215453e-02\n",
            "  -3.27619047e-04  1.59778345e-02  1.43497864e-01 -4.45173273e-02\n",
            "  -3.66889520e-01  1.84603670e-01  4.63547804e-02 -5.12819592e-03\n",
            "  -1.57340613e-04  1.49161264e-01  1.40419035e-01 -1.26243712e-01\n",
            "  -4.31892196e-01  7.50989303e-02  7.05182634e-02 -5.08444045e-04\n",
            "   0.00000000e+00  1.70563746e-01  9.56476012e-02 -1.63942311e-01\n",
            "  -3.81484232e-01  4.96802506e-02  7.02073444e-02  0.00000000e+00\n",
            "  -1.13361886e-03 -4.05968024e-02  2.70486278e-01 -2.28933129e-01\n",
            "  -1.51909777e-01  7.44261111e-02  3.40181769e-02 -5.98037626e-04\n",
            "  -3.93942985e-03 -1.19493698e-01  1.22350820e-01 -9.22397313e-02\n",
            "   1.69402861e-01  1.86221772e-02 -4.21553737e-02 -7.10708504e-03\n",
            "  -1.39056446e-05 -1.17567505e-02 -8.60883102e-02  2.09167519e-01\n",
            "  -2.40366930e-02 -9.64676556e-02 -3.55394377e-02 -1.16300328e-02]\n",
            " [ 0.00000000e+00 -5.91952171e-03 -1.30062345e-01  1.36913539e-01\n",
            "  -6.88018932e-01  3.80279889e-01  4.35293566e-03 -1.64458079e-02\n",
            "  -7.46550423e-04 -3.24467795e-01 -3.24286423e-01 -3.61196909e-01\n",
            "   2.52897338e-01 -1.16565267e-01 -2.95141307e-01 -2.57858449e-02\n",
            "   7.82487389e-02  2.59162455e-01 -3.60893865e-04  6.42409909e-01\n",
            "   1.60340435e-01 -1.28962248e-01 -2.88423117e-02 -3.12188792e-03\n",
            "   1.80789780e-02 -8.98355213e-02 -7.15500539e-02  5.44811052e-02\n",
            "   2.57893642e-01  7.64983713e-02 -5.46667223e-02 -5.97055520e-05\n",
            "   0.00000000e+00 -7.48550180e-02  1.38727226e-01 -1.29661401e-01\n",
            "   1.53825570e-01  1.71749032e-01 -1.32938409e-01  0.00000000e+00\n",
            "  -2.65355951e-04 -1.56822644e-01  9.43454319e-02  3.57685800e-01\n",
            "  -3.99113079e-02 -1.27805561e-01 -5.16640819e-01 -1.54701608e-03\n",
            "  -1.52951960e-03 -1.98734296e-01 -1.75757601e-01  9.95521067e-02\n",
            "   2.15689064e-01 -9.27948083e-02 -2.20381398e-01  2.16110913e-01\n",
            "  -4.53919215e-04  8.11873010e-03 -2.00426842e-01  1.60974470e-02\n",
            "   1.42112620e-01  1.82141978e-01  1.27197405e-01  1.91171858e-01]\n",
            " [ 0.00000000e+00  4.30287952e-02  6.19986308e-02 -2.17361340e-02\n",
            "   1.22761903e-01  1.19375380e-02  3.82204381e-03 -3.17720101e-03\n",
            "  -2.09386406e-02  1.84618030e-01  3.91357915e-02 -2.12886504e-01\n",
            "   3.19391530e-01  1.13291931e-02  3.06232325e-02 -3.24613548e-03\n",
            "  -1.00621717e-02 -1.40553239e-03 -1.40960273e-01 -2.48030653e-01\n",
            "   2.97993251e-01 -9.45922055e-02  1.70146047e-01 -9.21061352e-04\n",
            "  -4.43810287e-05 -1.29380647e-01 -5.33189473e-01 -4.09524261e-01\n",
            "  -2.12607824e-01 -6.99401668e-02  6.73799045e-02 -3.86123505e-05\n",
            "   0.00000000e+00 -9.91094245e-02 -4.12212278e-01 -1.39045547e-01\n",
            "  -4.33821414e-02 -2.53584521e-01 -1.92979851e-01  0.00000000e+00\n",
            "  -1.93014766e-04  8.43002777e-02  8.38800925e-02  3.88286359e-01\n",
            "  -2.69638700e-01 -2.86604685e-01 -4.98428753e-02 -3.64135864e-04\n",
            "   3.41857800e-03  7.54371438e-02  8.83598321e-02  4.86712618e-01\n",
            "   3.37727102e-01  3.11546379e-01  1.79554522e-01  1.07972935e-02\n",
            "   1.18257693e-03  3.33202244e-02  1.92887917e-01  9.92505134e-03\n",
            "   6.65660225e-02  2.75213276e-01  3.80563032e-01  1.87658332e-01]\n",
            " [ 0.00000000e+00  1.42304243e-01 -5.01648627e-02  1.98161371e-02\n",
            "   4.57032735e-01  1.32494364e-01 -4.55412354e-03 -2.44171877e-03\n",
            "  -7.62093521e-03  1.01207805e-01  3.33994313e-01  6.09349087e-02\n",
            "   2.82839984e-01  1.27726533e-01  2.29705948e-01 -1.63177552e-02\n",
            "  -3.79527105e-03 -4.55003362e-02 -3.78856925e-01 -5.24703662e-01\n",
            "   5.84205453e-02 -2.33436688e-01 -2.98423576e-02 -1.02004251e-03\n",
            "  -2.57670199e-05 -2.98395696e-01 -3.78339401e-01 -1.10371079e-01\n",
            "   3.09973846e-01 -3.00606772e-01 -3.30613390e-01 -3.86032410e-05\n",
            "   0.00000000e+00 -1.00178772e-01 -1.09278817e-01  5.78936235e-02\n",
            "   4.51377077e-04 -1.44581349e-01 -3.90029406e-02  0.00000000e+00\n",
            "  -1.92953331e-04  1.63769055e-02 -3.49937346e-01 -4.79219917e-01\n",
            "   1.43860597e-01  2.65624240e-01  1.43443162e-01 -8.49601011e-04\n",
            "  -1.77830791e-04 -2.29866246e-02  9.98634671e-02 -1.47856460e-01\n",
            "  -2.51644527e-02  1.95908626e-01  3.62329872e-01 -6.23177946e-02\n",
            "  -1.63782472e-05  1.15335835e-01  1.96649373e-01  2.39296426e-02\n",
            "  -4.56732609e-02  2.20767535e-02  1.58851965e-01 -1.69182562e-01]\n",
            " [ 0.00000000e+00 -1.84128802e-02 -1.12721738e-01 -3.39331092e-01\n",
            "  -2.41885860e-01 -4.21904270e-01 -1.83119305e-01  4.87104232e-02\n",
            "  -1.07677610e-04  7.18169755e-02 -1.43026570e-01 -1.89304385e-01\n",
            "  -4.39004805e-01 -1.15998013e-01 -1.47796001e-01  2.68825619e-02\n",
            "  -2.11151658e-03  2.68813012e-01  1.18898583e-01  2.12950089e-01\n",
            "   8.99234483e-03  1.67954025e-01 -4.02539091e-02  2.41013910e-02\n",
            "   2.03403881e-02  7.64780158e-02  4.68309267e-01  5.51909111e-02\n",
            "   5.83172029e-02  8.32688196e-02  3.77820751e-01  2.72870870e-03\n",
            "   0.00000000e+00  2.21583583e-01  2.28658661e-01 -1.38625784e-01\n",
            "   2.85866973e-01  1.75592699e-01  2.81304197e-01  0.00000000e+00\n",
            "   3.30322771e-03  5.00696825e-01 -4.71445972e-02  6.14444887e-01\n",
            "   3.99338892e-01  1.45628109e-01  1.18265621e-01 -6.72971269e-04\n",
            "   6.44342820e-03  2.53314625e-01 -1.89746841e-01  2.10729969e-02\n",
            "  -6.07904779e-03 -3.18178308e-01 -2.64900633e-01 -7.61858630e-03\n",
            "  -1.93699942e-05 -6.15061349e-02 -6.13222551e-02 -2.60936466e-01\n",
            "  -8.26548156e-02 -2.28838068e-01 -5.57864293e-02 -7.33975793e-03]\n",
            " [ 0.00000000e+00  1.02307195e-01  5.23013080e-01 -1.69996381e-02\n",
            "   2.09719879e-02  2.01390102e-01  3.55483256e-01 -6.85899562e-02\n",
            "  -1.03175541e-04 -9.28744289e-02  7.55141710e-02  2.59091120e-01\n",
            "  -1.31257745e-01  2.71139321e-02  7.89420232e-03 -2.58049825e-02\n",
            "  -2.47619947e-03 -6.16274767e-02  7.88871076e-02  5.69510285e-02\n",
            "  -3.81925563e-01 -3.72416552e-01 -4.83877821e-01 -7.69579986e-03\n",
            "  -1.21561451e-03  3.46803346e-01  2.77167950e-01  4.33767670e-02\n",
            "   2.85866987e-01 -1.88803100e-01 -1.87501166e-01 -4.69360064e-05\n",
            "   0.00000000e+00 -8.19155947e-03  1.23885188e-01 -2.83150586e-01\n",
            "  -1.49740234e-01  4.41221701e-02  3.27000684e-01  0.00000000e+00\n",
            "  -1.93206480e-04 -8.55842971e-02 -2.76297366e-01 -2.95597940e-01\n",
            "  -3.33707553e-02  1.03852377e-01  1.02432508e-01 -6.55013828e-04\n",
            "  -1.69296894e-04  1.63137423e-02 -6.47881992e-02 -1.67096760e-01\n",
            "   1.39097807e-01 -4.23618981e-02 -1.33340518e-01 -5.39251583e-03\n",
            "  -1.33475338e-05  1.12788451e-01  2.35404803e-01  1.38276736e-01\n",
            "  -5.39090954e-02 -5.60307350e-02 -3.78451937e-01 -1.41119345e-02]\n",
            " [ 0.00000000e+00 -7.99991972e-03 -2.04132328e-01 -1.55493707e-01\n",
            "  -2.01247841e-02 -7.91198712e-03 -4.66574672e-02 -2.69368431e-03\n",
            "  -1.24318150e-04 -1.04435272e-01 -1.56831282e-01 -1.66937124e-02\n",
            "  -2.77660952e-01 -2.63533766e-02  1.93426573e-02 -2.45763773e-03\n",
            "  -2.45382496e-03 -1.72222276e-01  1.71893767e-01  3.07987129e-02\n",
            "  -2.18729248e-01 -3.30768852e-01 -1.02039791e-01 -1.33208365e-03\n",
            "  -1.21849053e-03  2.79075506e-02  6.52459569e-02  6.00890324e-02\n",
            "  -1.46071652e-01 -6.23840006e-02 -1.94717127e-01 -2.25259311e-04\n",
            "   0.00000000e+00  1.87699574e-01  1.66178492e-01  2.40168367e-01\n",
            "   5.57449361e-02 -7.69723121e-02  5.97064155e-02  0.00000000e+00\n",
            "  -7.41000538e-04 -1.55880991e-01  5.00853114e-01  1.66238628e-01\n",
            "   1.07556902e-01 -3.94681976e-02  2.99774453e-01  6.11279065e-03\n",
            "  -1.66930351e-03 -1.17428073e-01 -2.68842435e-02  1.35304231e-01\n",
            "  -7.44385725e-02  2.91862238e-01  1.20744924e-01 -1.39511092e-01\n",
            "  -1.31311052e-05 -1.01061296e-02 -1.67058183e-01 -1.37000501e-01\n",
            "   5.39710629e-03  1.81431439e-01 -4.58381592e-03 -7.01359852e-02]\n",
            " [ 0.00000000e+00  3.37126049e-02  5.98288244e-02  1.76038937e-01\n",
            "   1.31489785e-01 -2.67686201e-02  1.79363272e-01  1.19353004e-01\n",
            "  -1.03028368e-04  8.03868636e-02  7.50541262e-02  3.88855857e-02\n",
            "   3.94909832e-01 -1.30654671e-01  3.30489950e-02  7.88912455e-02\n",
            "  -6.63136545e-05 -2.61542843e-01 -2.60686068e-01 -6.88507926e-02\n",
            "   7.35610858e-02  1.21183868e-01  2.59357757e-01  1.22539419e-02\n",
            "  -2.95323710e-05 -1.96504323e-01 -4.06627776e-02 -2.96385306e-01\n",
            "   2.41116567e-02  1.68023512e-01  2.17755000e-01 -1.57855296e-03\n",
            "   0.00000000e+00  1.63241880e-01 -1.58551808e-02  5.50291930e-03\n",
            "   1.16979860e-01  3.05060513e-01  2.35661494e-01  0.00000000e+00\n",
            "  -1.93131289e-04 -1.82118606e-02  1.04673815e-03  1.82298919e-01\n",
            "   7.88313048e-02 -3.32678013e-02  1.41234803e-02 -5.91789388e-04\n",
            "  -1.99399495e-04 -3.48848442e-02 -8.32158900e-02  1.51847257e-01\n",
            "  -2.49586896e-01 -3.39245396e-01 -1.03516797e-01 -3.79473647e-03\n",
            "  -2.26049205e-05 -2.34119515e-03  4.71293531e-02 -8.45564995e-02\n",
            "  -3.45772209e-01 -2.83331211e-01 -8.94916211e-02 -7.01474342e-03]\n",
            " [ 0.00000000e+00 -1.36718704e-01  3.70251089e-02 -2.62675702e-01\n",
            "   1.42808519e-01 -9.36873887e-02 -2.66377593e-01 -1.00043604e-02\n",
            "   2.99917716e-02  2.15022287e-02 -2.97612709e-02  8.65513712e-02\n",
            "  -2.56175093e-01  1.57731429e-01  5.95391689e-02 -6.18052292e-03\n",
            "  -5.65165200e-02  1.32562238e-04  2.70012494e-01 -1.01447988e-01\n",
            "   1.59370487e-01  1.80709327e-01  1.45777641e-01 -1.68917138e-03\n",
            "  -3.55245495e-02  1.21699934e-02 -1.89029472e-01  3.88673635e-01\n",
            "  -1.09130939e-01 -2.11666397e-03  2.57411432e-03 -7.56109250e-05\n",
            "   0.00000000e+00 -2.80524540e-02 -8.22425003e-02  3.90994546e-01\n",
            "   4.52596214e-02 -2.36023855e-01 -4.90745320e-01  0.00000000e+00\n",
            "  -1.97976097e-04 -1.36087244e-01  2.18867586e-01  6.12003906e-02\n",
            "   1.58286880e-01  3.79932055e-02  1.66917542e-01 -9.54276300e-04\n",
            "  -2.00690618e-03  1.45753736e-01  1.55620945e-01 -2.49802012e-01\n",
            "  -2.97997878e-01  1.46980829e-01  1.39462965e-01 -2.62148497e-02\n",
            "  -6.16066072e-04 -6.64892234e-02 -2.39278319e-01 -1.53997506e-02\n",
            "   2.35860111e-01 -4.53718431e-02 -6.39895312e-02 -7.11630178e-02]\n",
            " [ 0.00000000e+00 -1.41246812e-01 -1.60920793e-01  3.72207259e-01\n",
            "   6.13892616e-02 -8.81417077e-02  1.03745427e-01 -4.57312311e-02\n",
            "  -1.42300245e-04  1.38882993e-01  9.38208580e-02  1.73177764e-01\n",
            "  -1.74060823e-01 -1.89651563e-02  1.31656270e-01 -8.55938337e-03\n",
            "  -4.39302528e-04 -1.78739944e-03 -2.32565565e-03  4.44406834e-02\n",
            "   2.08866183e-01  5.05725654e-01  6.32199650e-02 -1.54470903e-02\n",
            "  -2.03690533e-04  1.01596018e-01  2.61628968e-01  3.40712906e-01\n",
            "  -3.64607231e-02  2.20961070e-01  3.14503706e-02 -1.56984305e-04\n",
            "   0.00000000e+00 -4.32701555e-01 -1.33508392e-01  1.59866173e-01\n",
            "  -8.35217297e-02 -3.50426278e-02 -1.18213614e-01  0.00000000e+00\n",
            "  -1.92970404e-04 -8.19016918e-03 -4.96099932e-01 -7.66403997e-01\n",
            "  -3.93044035e-01 -1.40377798e-01 -3.12491249e-01  1.20050725e-04\n",
            "  -1.70319883e-04  2.70828828e-03  7.41977105e-02 -2.37494246e-01\n",
            "  -2.08649987e-01 -1.72339839e-01 -3.77975634e-02  2.50484533e-02\n",
            "  -1.38542024e-05 -1.17363807e-01  8.21024635e-02  1.00496821e-01\n",
            "   1.02110215e-01  4.91760662e-02 -3.87696294e-02 -2.82521558e-02]]\n",
            "Model classes: [0 1 2 3 4 5 6 7 8 9]\n"
          ],
          "name": "stdout"
        }
      ]
    },
    {
      "cell_type": "code",
      "metadata": {
        "id": "tllc2MsTkJ8l",
        "colab_type": "code",
        "colab": {}
      },
      "source": [
        "cf_matrix = confusion_matrix(y_test, y_pred)"
      ],
      "execution_count": 14,
      "outputs": []
    },
    {
      "cell_type": "code",
      "metadata": {
        "id": "fx1CB9fRkOVg",
        "colab_type": "code",
        "colab": {}
      },
      "source": [
        "def make_confusion_matrix(cf,\n",
        "                          group_names=None,\n",
        "                          categories='auto',\n",
        "                          count=True,\n",
        "                          percent=True,\n",
        "                          cbar=True,\n",
        "                          xyticks=True,\n",
        "                          xyplotlabels=True,\n",
        "                          sum_stats=True,\n",
        "                          figsize=None,\n",
        "                          cmap='Blues',\n",
        "                          title=None):\n",
        "    '''\n",
        "    This function will make a pretty plot of an sklearn Confusion Matrix cm using a Seaborn heatmap visualization.\n",
        "    Arguments\n",
        "    ---------\n",
        "    cf:            confusion matrix to be passed in\n",
        "    group_names:   List of strings that represent the labels row by row to be shown in each square.\n",
        "    categories:    List of strings containing the categories to be displayed on the x,y axis. Default is 'auto'\n",
        "    count:         If True, show the raw number in the confusion matrix. Default is True.\n",
        "    normalize:     If True, show the proportions for each category. Default is True.\n",
        "    cbar:          If True, show the color bar. The cbar values are based off the values in the confusion matrix.\n",
        "                   Default is True.\n",
        "    xyticks:       If True, show x and y ticks. Default is True.\n",
        "    xyplotlabels:  If True, show 'True Label' and 'Predicted Label' on the figure. Default is True.\n",
        "    sum_stats:     If True, display summary statistics below the figure. Default is True.\n",
        "    figsize:       Tuple representing the figure size. Default will be the matplotlib rcParams value.\n",
        "    cmap:          Colormap of the values displayed from matplotlib.pyplot.cm. Default is 'Blues'\n",
        "                   See http://matplotlib.org/examples/color/colormaps_reference.html\n",
        "                   \n",
        "    title:         Title for the heatmap. Default is None.\n",
        "    '''\n",
        "\n",
        "\n",
        "    # CODE TO GENERATE TEXT INSIDE EACH SQUARE\n",
        "    blanks = ['' for i in range(cf.size)]\n",
        "\n",
        "    if group_names and len(group_names)==cf.size:\n",
        "        group_labels = [\"{}\\n\".format(value) for value in group_names]\n",
        "    else:\n",
        "        group_labels = blanks\n",
        "\n",
        "    if count:\n",
        "        group_counts = [\"{0:0.0f}\\n\".format(value) for value in cf.flatten()]\n",
        "    else:\n",
        "        group_counts = blanks\n",
        "\n",
        "    if percent:\n",
        "        group_percentages = [\"{0:.2%}\".format(value) for value in cf.flatten()/np.sum(cf)]\n",
        "    else:\n",
        "        group_percentages = blanks\n",
        "\n",
        "    box_labels = [f\"{v1}{v2}{v3}\".strip() for v1, v2, v3 in zip(group_labels,group_counts,group_percentages)]\n",
        "    box_labels = np.asarray(box_labels).reshape(cf.shape[0],cf.shape[1])\n",
        "\n",
        "\n",
        "    # CODE TO GENERATE SUMMARY STATISTICS & TEXT FOR SUMMARY STATS\n",
        "    if sum_stats:\n",
        "        #Accuracy is sum of diagonal divided by total observations\n",
        "        accuracy  = np.trace(cf) / float(np.sum(cf))\n",
        "\n",
        "        #if it is a binary confusion matrix, show some more stats\n",
        "        if len(cf)==2:\n",
        "            #Metrics for Binary Confusion Matrices\n",
        "            precision = cf[1,1] / sum(cf[:,1])\n",
        "            recall    = cf[1,1] / sum(cf[1,:])\n",
        "            f1_score  = 2*precision*recall / (precision + recall)\n",
        "            stats_text = \"\\n\\nAccuracy={:0.3f}\\nPrecision={:0.3f}\\nRecall={:0.3f}\\nF1 Score={:0.3f}\".format(\n",
        "                accuracy,precision,recall,f1_score)\n",
        "        else:\n",
        "            stats_text = \"\\n\\nAccuracy={:0.3f}\".format(accuracy)\n",
        "    else:\n",
        "        stats_text = \"\"\n",
        "\n",
        "\n",
        "    # SET FIGURE PARAMETERS ACCORDING TO OTHER ARGUMENTS\n",
        "    if figsize==None:\n",
        "        #Get default figure size if not set\n",
        "        figsize = plt.rcParams.get('figure.figsize')\n",
        "\n",
        "    if xyticks==False:\n",
        "        #Do not show categories if xyticks is False\n",
        "        categories=False\n",
        "\n",
        "\n",
        "    # MAKE THE HEATMAP VISUALIZATION\n",
        "    plt.figure(figsize=figsize)\n",
        "    sns.heatmap(cf,annot=box_labels,fmt=\"\",cmap=cmap,cbar=cbar,xticklabels=categories,yticklabels=categories)\n",
        "\n",
        "    if xyplotlabels:\n",
        "        plt.ylabel('True label')\n",
        "        plt.xlabel('Predicted label' + stats_text)\n",
        "    else:\n",
        "        plt.xlabel(stats_text)\n",
        "    \n",
        "    if title:\n",
        "        plt.title(title)"
      ],
      "execution_count": 16,
      "outputs": []
    },
    {
      "cell_type": "code",
      "metadata": {
        "id": "x5LujSPtkM2L",
        "colab_type": "code",
        "colab": {
          "base_uri": "https://localhost:8080/",
          "height": 194
        },
        "outputId": "2648b21c-2934-4b80-bb12-b91f3256b6d5"
      },
      "source": [
        "cf_matrix"
      ],
      "execution_count": 15,
      "outputs": [
        {
          "output_type": "execute_result",
          "data": {
            "text/plain": [
              "array([[33,  0,  0,  0,  0,  0,  0,  0,  0,  0],\n",
              "       [ 0, 28,  0,  0,  0,  0,  0,  0,  0,  0],\n",
              "       [ 0,  0, 33,  0,  0,  0,  0,  0,  0,  0],\n",
              "       [ 0,  0,  0, 33,  0,  1,  0,  0,  0,  0],\n",
              "       [ 0,  1,  0,  0, 44,  0,  1,  0,  0,  0],\n",
              "       [ 0,  0,  1,  0,  0, 44,  1,  0,  0,  1],\n",
              "       [ 0,  0,  0,  0,  0,  1, 34,  0,  0,  0],\n",
              "       [ 0,  0,  0,  0,  0,  1,  0, 33,  0,  0],\n",
              "       [ 0,  0,  0,  0,  0,  1,  0,  0, 29,  0],\n",
              "       [ 0,  0,  0,  1,  0,  0,  0,  0,  1, 38]])"
            ]
          },
          "metadata": {
            "tags": []
          },
          "execution_count": 15
        }
      ]
    },
    {
      "cell_type": "code",
      "metadata": {
        "id": "ReYV8uMwkUum",
        "colab_type": "code",
        "colab": {
          "base_uri": "https://localhost:8080/",
          "height": 1000
        },
        "outputId": "f3635f31-eff5-4a1e-bd78-0e6fe8cdea14"
      },
      "source": [
        "\n",
        "labels = ['True Neg','False Pos','False Neg','True Pos']\n",
        "categories = ['0', '1', '2', '3', '4', '5', '6', '7', '8', '9']\n",
        "make_confusion_matrix(cf_matrix, \n",
        "                      group_names=labels,\n",
        "                      categories=categories, \n",
        "                      cmap='coolwarm', figsize=(20,20), title=\"Confusion Matrix\")"
      ],
      "execution_count": 19,
      "outputs": [
        {
          "output_type": "display_data",
          "data": {
            "image/png": "[encoded data removed]",
            "text/plain": [
              "<Figure size 1440x1440 with 2 Axes>"
            ]
          },
          "metadata": {
            "tags": [],
            "needs_background": "light"
          }
        }
      ]
    },
    {
      "cell_type": "code",
      "metadata": {
        "id": "NAJhvepelAZJ",
        "colab_type": "code",
        "colab": {
          "base_uri": "https://localhost:8080/",
          "height": 34
        },
        "outputId": "d3d36ad8-b468-4538-bc5b-31c309635ebc"
      },
      "source": [
        "print(f'Model score: {log.score(X_test, y_test)}')"
      ],
      "execution_count": 26,
      "outputs": [
        {
          "output_type": "stream",
          "text": [
            "Model score: 0.9694444444444444\n"
          ],
          "name": "stdout"
        }
      ]
    },
    {
      "cell_type": "code",
      "metadata": {
        "id": "HFpYM1balefr",
        "colab_type": "code",
        "colab": {
          "base_uri": "https://localhost:8080/",
          "height": 318
        },
        "outputId": "ae46ebd2-20de-408b-8d9b-e8f84ce49fcd"
      },
      "source": [
        "print(classification_report(y_test, log.predict(X_test)))"
      ],
      "execution_count": 27,
      "outputs": [
        {
          "output_type": "stream",
          "text": [
            "              precision    recall  f1-score   support\n",
            "\n",
            "           0       1.00      1.00      1.00        33\n",
            "           1       0.97      1.00      0.98        28\n",
            "           2       0.97      1.00      0.99        33\n",
            "           3       0.97      0.97      0.97        34\n",
            "           4       1.00      0.96      0.98        46\n",
            "           5       0.92      0.94      0.93        47\n",
            "           6       0.94      0.97      0.96        35\n",
            "           7       1.00      0.97      0.99        34\n",
            "           8       0.97      0.97      0.97        30\n",
            "           9       0.97      0.95      0.96        40\n",
            "\n",
            "    accuracy                           0.97       360\n",
            "   macro avg       0.97      0.97      0.97       360\n",
            "weighted avg       0.97      0.97      0.97       360\n",
            "\n"
          ],
          "name": "stdout"
        }
      ]
    },
    {
      "cell_type": "code",
      "metadata": {
        "id": "e9RgzMKflg0M",
        "colab_type": "code",
        "colab": {}
      },
      "source": [
        ""
      ],
      "execution_count": null,
      "outputs": []
    }
  ]
}